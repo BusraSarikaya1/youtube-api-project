{
 "cells": [
  {
   "cell_type": "code",
   "execution_count": 98,
   "metadata": {},
   "outputs": [],
   "source": [
    "import matplotlib.pyplot as plt\n",
    "import seaborn as sns\n",
    "import json\n",
    "import numpy as np\n",
    "import pandas as pd\n",
    "from googleapiclient.discovery import build\n",
    "from config.config import YOUTUBE_API_KEY\n",
    "from api_methods import fetch_channel_stats, fetch_video_ids, fetch_video_details"
   ]
  },
  {
   "cell_type": "code",
   "execution_count": 99,
   "metadata": {},
   "outputs": [],
   "source": [
    "# Get credentials and create an API client\n",
    "api_service_name = \"youtube\"\n",
    "api_version = \"v3\"\n",
    "\n",
    "youtube = build(api_service_name, api_version, developerKey = YOUTUBE_API_KEY)"
   ]
  },
  {
   "cell_type": "code",
   "execution_count": 100,
   "metadata": {},
   "outputs": [],
   "source": [
    "# Channels to analyze\n",
    "channel_ids = [\n",
    "    \"UC6OI7Crv96jgra5pwJNDFRQ\", #Channel's name Sezen Aksu\n",
    "    # Can add more channels\n",
    "]"
   ]
  },
  {
   "cell_type": "code",
   "execution_count": 101,
   "metadata": {},
   "outputs": [],
   "source": [
    "channel_stats = fetch_channel_stats(youtube, channel_ids)"
   ]
  },
  {
   "cell_type": "code",
   "execution_count": 102,
   "metadata": {},
   "outputs": [
    {
     "data": {
      "text/html": [
       "<div>\n",
       "<style scoped>\n",
       "    .dataframe tbody tr th:only-of-type {\n",
       "        vertical-align: middle;\n",
       "    }\n",
       "\n",
       "    .dataframe tbody tr th {\n",
       "        vertical-align: top;\n",
       "    }\n",
       "\n",
       "    .dataframe thead th {\n",
       "        text-align: right;\n",
       "    }\n",
       "</style>\n",
       "<table border=\"1\" class=\"dataframe\">\n",
       "  <thead>\n",
       "    <tr style=\"text-align: right;\">\n",
       "      <th></th>\n",
       "      <th>channelName</th>\n",
       "      <th>subscribers</th>\n",
       "      <th>views</th>\n",
       "      <th>totalVideos</th>\n",
       "      <th>playlistId</th>\n",
       "    </tr>\n",
       "  </thead>\n",
       "  <tbody>\n",
       "    <tr>\n",
       "      <th>0</th>\n",
       "      <td>Sezen Aksu</td>\n",
       "      <td>2570000</td>\n",
       "      <td>2826053191</td>\n",
       "      <td>748</td>\n",
       "      <td>UU6OI7Crv96jgra5pwJNDFRQ</td>\n",
       "    </tr>\n",
       "  </tbody>\n",
       "</table>\n",
       "</div>"
      ],
      "text/plain": [
       "  channelName subscribers       views totalVideos                playlistId\n",
       "0  Sezen Aksu     2570000  2826053191         748  UU6OI7Crv96jgra5pwJNDFRQ"
      ]
     },
     "execution_count": 102,
     "metadata": {},
     "output_type": "execute_result"
    }
   ],
   "source": [
    "channel_stats"
   ]
  },
  {
   "cell_type": "code",
   "execution_count": 103,
   "metadata": {},
   "outputs": [
    {
     "data": {
      "text/plain": [
       "<pandas.core.indexing._LocIndexer at 0x225906c2540>"
      ]
     },
     "execution_count": 103,
     "metadata": {},
     "output_type": "execute_result"
    }
   ],
   "source": [
    "channel_stats.loc"
   ]
  },
  {
   "cell_type": "code",
   "execution_count": 104,
   "metadata": {},
   "outputs": [],
   "source": [
    "playlist_id = channel_stats.loc[channel_stats['channelName']== \"Sezen Aksu\", \"playlistId\"].iloc[0]"
   ]
  },
  {
   "cell_type": "code",
   "execution_count": 105,
   "metadata": {},
   "outputs": [],
   "source": [
    "video_ids = fetch_video_ids(youtube, playlist_id)  # belirli bir çalma listesine ait video id çekme işlemi gerçekleştirilecektir."
   ]
  },
  {
   "cell_type": "code",
   "execution_count": 106,
   "metadata": {},
   "outputs": [
    {
     "data": {
      "text/plain": [
       "749"
      ]
     },
     "execution_count": 106,
     "metadata": {},
     "output_type": "execute_result"
    }
   ],
   "source": [
    "# Kanala ait video sayısı\n",
    "len(video_ids)"
   ]
  },
  {
   "cell_type": "markdown",
   "metadata": {},
   "source": [
    "# Kanala ait videoların detayları"
   ]
  },
  {
   "cell_type": "code",
   "execution_count": 107,
   "metadata": {},
   "outputs": [],
   "source": [
    "video_details = fetch_video_details(youtube, video_ids)"
   ]
  },
  {
   "cell_type": "code",
   "execution_count": 108,
   "metadata": {},
   "outputs": [
    {
     "data": {
      "text/html": [
       "<div>\n",
       "<style scoped>\n",
       "    .dataframe tbody tr th:only-of-type {\n",
       "        vertical-align: middle;\n",
       "    }\n",
       "\n",
       "    .dataframe tbody tr th {\n",
       "        vertical-align: top;\n",
       "    }\n",
       "\n",
       "    .dataframe thead th {\n",
       "        text-align: right;\n",
       "    }\n",
       "</style>\n",
       "<table border=\"1\" class=\"dataframe\">\n",
       "  <thead>\n",
       "    <tr style=\"text-align: right;\">\n",
       "      <th></th>\n",
       "      <th>video_id</th>\n",
       "      <th>channelTitle</th>\n",
       "      <th>title</th>\n",
       "      <th>description</th>\n",
       "      <th>tags</th>\n",
       "      <th>publishedAt</th>\n",
       "      <th>viewCount</th>\n",
       "      <th>likeCount</th>\n",
       "      <th>favouriteCount</th>\n",
       "      <th>commentCount</th>\n",
       "      <th>duration</th>\n",
       "      <th>definition</th>\n",
       "      <th>caption</th>\n",
       "    </tr>\n",
       "  </thead>\n",
       "  <tbody>\n",
       "    <tr>\n",
       "      <th>0</th>\n",
       "      <td>SwFG0k9ezHg</td>\n",
       "      <td>Sezen Aksu</td>\n",
       "      <td>Sezen Aksu - Gidiyorum #SezenAksu #MinikSerçe ...</td>\n",
       "      <td>=============================\\r\\n\\r\\nSezen Aks...</td>\n",
       "      <td>[sezen aksu, Turkish music, Turkish Pop Music,...</td>\n",
       "      <td>2023-12-03T17:00:17Z</td>\n",
       "      <td>22516</td>\n",
       "      <td>1346</td>\n",
       "      <td>None</td>\n",
       "      <td>40</td>\n",
       "      <td>PT49S</td>\n",
       "      <td>hd</td>\n",
       "      <td>false</td>\n",
       "    </tr>\n",
       "  </tbody>\n",
       "</table>\n",
       "</div>"
      ],
      "text/plain": [
       "      video_id channelTitle  \\\n",
       "0  SwFG0k9ezHg   Sezen Aksu   \n",
       "\n",
       "                                               title  \\\n",
       "0  Sezen Aksu - Gidiyorum #SezenAksu #MinikSerçe ...   \n",
       "\n",
       "                                         description  \\\n",
       "0  =============================\\r\\n\\r\\nSezen Aks...   \n",
       "\n",
       "                                                tags           publishedAt  \\\n",
       "0  [sezen aksu, Turkish music, Turkish Pop Music,...  2023-12-03T17:00:17Z   \n",
       "\n",
       "  viewCount likeCount favouriteCount commentCount duration definition caption  \n",
       "0     22516      1346           None           40    PT49S         hd   false  "
      ]
     },
     "execution_count": 108,
     "metadata": {},
     "output_type": "execute_result"
    }
   ],
   "source": [
    "video_details.head(n=1)"
   ]
  },
  {
   "cell_type": "markdown",
   "metadata": {},
   "source": [
    "En çok izlenme alan video'ya ait satırı bulmaya çalışalım."
   ]
  },
  {
   "cell_type": "markdown",
   "metadata": {},
   "source": [
    "Öncelikle Null değer var mı yok mu kontrol edelim"
   ]
  },
  {
   "cell_type": "code",
   "execution_count": 109,
   "metadata": {},
   "outputs": [
    {
     "data": {
      "text/plain": [
       "video_id          False\n",
       "channelTitle      False\n",
       "title             False\n",
       "description       False\n",
       "tags               True\n",
       "publishedAt       False\n",
       "viewCount         False\n",
       "likeCount          True\n",
       "favouriteCount     True\n",
       "commentCount      False\n",
       "duration          False\n",
       "definition        False\n",
       "caption           False\n",
       "dtype: bool"
      ]
     },
     "execution_count": 109,
     "metadata": {},
     "output_type": "execute_result"
    }
   ],
   "source": [
    "video_details.isnull().any()"
   ]
  },
  {
   "cell_type": "code",
   "execution_count": 110,
   "metadata": {},
   "outputs": [],
   "source": [
    "# NaN değerleri 0 sayısı ile doldurma\n",
    "fill_value = 0\n",
    "video_details.fillna(fill_value, inplace=True)"
   ]
  },
  {
   "cell_type": "code",
   "execution_count": 111,
   "metadata": {},
   "outputs": [
    {
     "data": {
      "text/plain": [
       "video_id          False\n",
       "channelTitle      False\n",
       "title             False\n",
       "description       False\n",
       "tags              False\n",
       "publishedAt       False\n",
       "viewCount         False\n",
       "likeCount         False\n",
       "favouriteCount    False\n",
       "commentCount      False\n",
       "duration          False\n",
       "definition        False\n",
       "caption           False\n",
       "dtype: bool"
      ]
     },
     "execution_count": 111,
     "metadata": {},
     "output_type": "execute_result"
    }
   ],
   "source": [
    "# Kontrol edelim \n",
    "video_details.isnull().any()"
   ]
  },
  {
   "cell_type": "code",
   "execution_count": 112,
   "metadata": {},
   "outputs": [
    {
     "data": {
      "text/plain": [
       "video_id          object\n",
       "channelTitle      object\n",
       "title             object\n",
       "description       object\n",
       "tags              object\n",
       "publishedAt       object\n",
       "viewCount         object\n",
       "likeCount         object\n",
       "favouriteCount     int64\n",
       "commentCount      object\n",
       "duration          object\n",
       "definition        object\n",
       "caption           object\n",
       "dtype: object"
      ]
     },
     "execution_count": 112,
     "metadata": {},
     "output_type": "execute_result"
    }
   ],
   "source": [
    "# ? integer a çevirmeye çalış. Kolon tipi değiştirme\n",
    "video_details.dtypes"
   ]
  },
  {
   "cell_type": "markdown",
   "metadata": {},
   "source": [
    "Kanal'ın en çok izlenen videolarını inceleyelim."
   ]
  },
  {
   "cell_type": "code",
   "execution_count": 113,
   "metadata": {},
   "outputs": [
    {
     "data": {
      "text/html": [
       "<div>\n",
       "<style scoped>\n",
       "    .dataframe tbody tr th:only-of-type {\n",
       "        vertical-align: middle;\n",
       "    }\n",
       "\n",
       "    .dataframe tbody tr th {\n",
       "        vertical-align: top;\n",
       "    }\n",
       "\n",
       "    .dataframe thead th {\n",
       "        text-align: right;\n",
       "    }\n",
       "</style>\n",
       "<table border=\"1\" class=\"dataframe\">\n",
       "  <thead>\n",
       "    <tr style=\"text-align: right;\">\n",
       "      <th></th>\n",
       "      <th>video_id</th>\n",
       "      <th>channelTitle</th>\n",
       "      <th>title</th>\n",
       "      <th>description</th>\n",
       "      <th>tags</th>\n",
       "      <th>publishedAt</th>\n",
       "      <th>viewCount</th>\n",
       "      <th>likeCount</th>\n",
       "      <th>favouriteCount</th>\n",
       "      <th>commentCount</th>\n",
       "      <th>duration</th>\n",
       "      <th>definition</th>\n",
       "      <th>caption</th>\n",
       "    </tr>\n",
       "  </thead>\n",
       "  <tbody>\n",
       "    <tr>\n",
       "      <th>68</th>\n",
       "      <td>p4yxn8ZahPI</td>\n",
       "      <td>Sezen Aksu</td>\n",
       "      <td>Sezen Aksu - Ben De Yoluma Giderim (Official V...</td>\n",
       "      <td>\"Bu haftaki çalışmamız, fırından çıktıktan son...</td>\n",
       "      <td>[sezen aksu, Turkish music, Turkish Pop Music,...</td>\n",
       "      <td>2020-02-20T20:30:04Z</td>\n",
       "      <td>124570135</td>\n",
       "      <td>646911</td>\n",
       "      <td>0</td>\n",
       "      <td>49330</td>\n",
       "      <td>PT3M44S</td>\n",
       "      <td>hd</td>\n",
       "      <td>true</td>\n",
       "    </tr>\n",
       "  </tbody>\n",
       "</table>\n",
       "</div>"
      ],
      "text/plain": [
       "       video_id channelTitle  \\\n",
       "68  p4yxn8ZahPI   Sezen Aksu   \n",
       "\n",
       "                                                title  \\\n",
       "68  Sezen Aksu - Ben De Yoluma Giderim (Official V...   \n",
       "\n",
       "                                          description  \\\n",
       "68  \"Bu haftaki çalışmamız, fırından çıktıktan son...   \n",
       "\n",
       "                                                 tags           publishedAt  \\\n",
       "68  [sezen aksu, Turkish music, Turkish Pop Music,...  2020-02-20T20:30:04Z   \n",
       "\n",
       "    viewCount likeCount  favouriteCount commentCount duration definition  \\\n",
       "68  124570135    646911               0        49330  PT3M44S         hd   \n",
       "\n",
       "   caption  \n",
       "68    true  "
      ]
     },
     "execution_count": 113,
     "metadata": {},
     "output_type": "execute_result"
    }
   ],
   "source": [
    "# En çok izlenen videoya ait satırı bulma\n",
    "most_viewed = video_details.loc[video_details['viewCount'].astype(float).idxmax()]\n",
    "\n",
    "# En çok izlenen videoya ait bilgiler\n",
    "most_viewed_video_info = most_viewed[['video_id','channelTitle', 'title', 'description', 'tags', 'publishedAt',\n",
    "                                           'viewCount', 'likeCount', 'favouriteCount', 'commentCount',\n",
    "                                           'duration', 'definition', 'caption']]\n",
    "\n",
    "# most_viewed_video_info değişkeni artık en çok izlenen videoya ait tüm bilgileri içerir\n",
    "most_viewed_video_df = pd.DataFrame([most_viewed_video_info])\n",
    "most_viewed_video_df.head()"
   ]
  },
  {
   "cell_type": "code",
   "execution_count": 114,
   "metadata": {},
   "outputs": [
    {
     "data": {
      "text/html": [
       "<div>\n",
       "<style scoped>\n",
       "    .dataframe tbody tr th:only-of-type {\n",
       "        vertical-align: middle;\n",
       "    }\n",
       "\n",
       "    .dataframe tbody tr th {\n",
       "        vertical-align: top;\n",
       "    }\n",
       "\n",
       "    .dataframe thead th {\n",
       "        text-align: right;\n",
       "    }\n",
       "</style>\n",
       "<table border=\"1\" class=\"dataframe\">\n",
       "  <thead>\n",
       "    <tr style=\"text-align: right;\">\n",
       "      <th></th>\n",
       "      <th>video_id</th>\n",
       "      <th>channelTitle</th>\n",
       "      <th>title</th>\n",
       "      <th>description</th>\n",
       "      <th>tags</th>\n",
       "      <th>publishedAt</th>\n",
       "      <th>viewCount</th>\n",
       "      <th>likeCount</th>\n",
       "      <th>favouriteCount</th>\n",
       "      <th>commentCount</th>\n",
       "      <th>duration</th>\n",
       "      <th>definition</th>\n",
       "      <th>caption</th>\n",
       "    </tr>\n",
       "  </thead>\n",
       "  <tbody>\n",
       "    <tr>\n",
       "      <th>68</th>\n",
       "      <td>p4yxn8ZahPI</td>\n",
       "      <td>Sezen Aksu</td>\n",
       "      <td>Sezen Aksu - Ben De Yoluma Giderim (Official V...</td>\n",
       "      <td>\"Bu haftaki çalışmamız, fırından çıktıktan son...</td>\n",
       "      <td>[sezen aksu, Turkish music, Turkish Pop Music,...</td>\n",
       "      <td>2020-02-20T20:30:04Z</td>\n",
       "      <td>124570135</td>\n",
       "      <td>646911</td>\n",
       "      <td>0</td>\n",
       "      <td>49330</td>\n",
       "      <td>PT3M44S</td>\n",
       "      <td>hd</td>\n",
       "      <td>true</td>\n",
       "    </tr>\n",
       "    <tr>\n",
       "      <th>235</th>\n",
       "      <td>D-i77gTIEWM</td>\n",
       "      <td>Sezen Aksu</td>\n",
       "      <td>Sezen Aksu - İhanetten Geri Kalan (Official Au...</td>\n",
       "      <td>Biraz Pop Biraz Sezen - İhanetten Geri Kalan \\...</td>\n",
       "      <td>[sezen aksu, YENİ ALBÜM, SEZEN AKSU YENİ, SEZE...</td>\n",
       "      <td>2017-01-23T18:45:19Z</td>\n",
       "      <td>85830803</td>\n",
       "      <td>341228</td>\n",
       "      <td>0</td>\n",
       "      <td>17376</td>\n",
       "      <td>PT3M57S</td>\n",
       "      <td>hd</td>\n",
       "      <td>false</td>\n",
       "    </tr>\n",
       "    <tr>\n",
       "      <th>318</th>\n",
       "      <td>Eg6gKLXA30U</td>\n",
       "      <td>Sezen Aksu</td>\n",
       "      <td>Sezen Aksu - Tükeneceğiz (Official Audio)</td>\n",
       "      <td>Sezen Aksu - Tükeneceğiz\\n\\nSöz: Sezen Aksu\\nB...</td>\n",
       "      <td>[sezen aksu, sezen aksu tükeneceğiz, tükeneceğ...</td>\n",
       "      <td>2016-12-25T21:23:03Z</td>\n",
       "      <td>73306812</td>\n",
       "      <td>273084</td>\n",
       "      <td>0</td>\n",
       "      <td>14558</td>\n",
       "      <td>PT4M20S</td>\n",
       "      <td>hd</td>\n",
       "      <td>true</td>\n",
       "    </tr>\n",
       "    <tr>\n",
       "      <th>213</th>\n",
       "      <td>6ywcf07KQZA</td>\n",
       "      <td>Sezen Aksu</td>\n",
       "      <td>Sezen Aksu - Manifesto (Official Video)</td>\n",
       "      <td>Manifesto (Biraz Pop Biraz Sezen, 2017) \\n\\n#l...</td>\n",
       "      <td>[sezen aksu, manifesto, sezen aksu manifesto, ...</td>\n",
       "      <td>2017-05-27T08:00:20Z</td>\n",
       "      <td>66714620</td>\n",
       "      <td>337036</td>\n",
       "      <td>0</td>\n",
       "      <td>30940</td>\n",
       "      <td>PT3M31S</td>\n",
       "      <td>hd</td>\n",
       "      <td>true</td>\n",
       "    </tr>\n",
       "    <tr>\n",
       "      <th>349</th>\n",
       "      <td>352QSI4nsQk</td>\n",
       "      <td>Sezen Aksu</td>\n",
       "      <td>Sezen Aksu - Kaçın Kurası (Official Audio)</td>\n",
       "      <td>Söz: Sezen Aksu\\nBeste: Sezen Aksu\\nDüzenleme:...</td>\n",
       "      <td>[sezen aksu, gönül gözüm kapalı bilerek sana y...</td>\n",
       "      <td>2016-12-20T08:09:09Z</td>\n",
       "      <td>65946210</td>\n",
       "      <td>297959</td>\n",
       "      <td>0</td>\n",
       "      <td>17149</td>\n",
       "      <td>PT3M46S</td>\n",
       "      <td>hd</td>\n",
       "      <td>true</td>\n",
       "    </tr>\n",
       "  </tbody>\n",
       "</table>\n",
       "</div>"
      ],
      "text/plain": [
       "        video_id channelTitle  \\\n",
       "68   p4yxn8ZahPI   Sezen Aksu   \n",
       "235  D-i77gTIEWM   Sezen Aksu   \n",
       "318  Eg6gKLXA30U   Sezen Aksu   \n",
       "213  6ywcf07KQZA   Sezen Aksu   \n",
       "349  352QSI4nsQk   Sezen Aksu   \n",
       "\n",
       "                                                 title  \\\n",
       "68   Sezen Aksu - Ben De Yoluma Giderim (Official V...   \n",
       "235  Sezen Aksu - İhanetten Geri Kalan (Official Au...   \n",
       "318          Sezen Aksu - Tükeneceğiz (Official Audio)   \n",
       "213            Sezen Aksu - Manifesto (Official Video)   \n",
       "349         Sezen Aksu - Kaçın Kurası (Official Audio)   \n",
       "\n",
       "                                           description  \\\n",
       "68   \"Bu haftaki çalışmamız, fırından çıktıktan son...   \n",
       "235  Biraz Pop Biraz Sezen - İhanetten Geri Kalan \\...   \n",
       "318  Sezen Aksu - Tükeneceğiz\\n\\nSöz: Sezen Aksu\\nB...   \n",
       "213  Manifesto (Biraz Pop Biraz Sezen, 2017) \\n\\n#l...   \n",
       "349  Söz: Sezen Aksu\\nBeste: Sezen Aksu\\nDüzenleme:...   \n",
       "\n",
       "                                                  tags           publishedAt  \\\n",
       "68   [sezen aksu, Turkish music, Turkish Pop Music,...  2020-02-20T20:30:04Z   \n",
       "235  [sezen aksu, YENİ ALBÜM, SEZEN AKSU YENİ, SEZE...  2017-01-23T18:45:19Z   \n",
       "318  [sezen aksu, sezen aksu tükeneceğiz, tükeneceğ...  2016-12-25T21:23:03Z   \n",
       "213  [sezen aksu, manifesto, sezen aksu manifesto, ...  2017-05-27T08:00:20Z   \n",
       "349  [sezen aksu, gönül gözüm kapalı bilerek sana y...  2016-12-20T08:09:09Z   \n",
       "\n",
       "     viewCount likeCount  favouriteCount commentCount duration definition  \\\n",
       "68   124570135    646911               0        49330  PT3M44S         hd   \n",
       "235   85830803    341228               0        17376  PT3M57S         hd   \n",
       "318   73306812    273084               0        14558  PT4M20S         hd   \n",
       "213   66714620    337036               0        30940  PT3M31S         hd   \n",
       "349   65946210    297959               0        17149  PT3M46S         hd   \n",
       "\n",
       "    caption  \n",
       "68     true  \n",
       "235   false  \n",
       "318    true  \n",
       "213    true  \n",
       "349    true  "
      ]
     },
     "execution_count": 114,
     "metadata": {},
     "output_type": "execute_result"
    }
   ],
   "source": [
    "# 'viewCount' sütununu sayısal veri türüne dönüştür\n",
    "video_details['viewCount'] = pd.to_numeric(video_details['viewCount'], errors='coerce')\n",
    "\n",
    "# NaN değerleri temizle\n",
    "video_details = video_details.dropna(subset=['viewCount'])\n",
    "\n",
    "# 'viewCount' sütununa göre DataFrame'i sırala ve en çok izlenen 10 videoyu seç\n",
    "top_10_viewed = video_details.nlargest(10, 'viewCount')\n",
    "\n",
    "# En çok izlenen 10 videoya ait bilgiler\n",
    "top_10_viewed_video_info = top_10_viewed[['video_id','channelTitle', 'title', 'description', 'tags', 'publishedAt',\n",
    "                                           'viewCount', 'likeCount', 'favouriteCount', 'commentCount',\n",
    "                                           'duration', 'definition', 'caption']]\n",
    "\n",
    "# top_10_viewed_video_info değişkeni artık en çok izlenen 10 videoya ait tüm bilgileri içerir\n",
    "top_10_viewed_video_df = pd.DataFrame(top_10_viewed_video_info)\n",
    "top_10_viewed_video_df.head(5)"
   ]
  },
  {
   "cell_type": "code",
   "execution_count": 115,
   "metadata": {},
   "outputs": [
    {
     "data": {
      "image/png": "[encoded data removed]",
      "text/plain": [
       "<Figure size 864x576 with 1 Axes>"
      ]
     },
     "metadata": {},
     "output_type": "display_data"
    }
   ],
   "source": [
    "# En çok izlenen 10 videoya ait DataFrame'i kullanarak çubuk grafik oluşturalım\n",
    "sns.set(rc={'figure.figsize': (12, 8)})\n",
    "sns.barplot(x='viewCount', y='title', data=top_10_viewed_video_df, palette='viridis')\n",
    "\n",
    "plt.xlabel(\"Görüntülenme Sayısı\")\n",
    "plt.ylabel(\"Video Adı\")\n",
    "plt.title(\"En Çok İzlenen 10 Video\")\n",
    "plt.show()"
   ]
  },
  {
   "cell_type": "markdown",
   "metadata": {},
   "source": [
    "Kanal'ın en çok beğeni alan videoları"
   ]
  },
  {
   "cell_type": "code",
   "execution_count": 116,
   "metadata": {},
   "outputs": [],
   "source": [
    "most_liked = video_details.loc[video_details['likeCount'].astype(float).idxmax()]"
   ]
  },
  {
   "cell_type": "code",
   "execution_count": 117,
   "metadata": {},
   "outputs": [],
   "source": [
    "most_liked_video_info = most_liked[['video_id','channelTitle', 'title', 'description', 'tags', 'publishedAt',\n",
    "                                           'viewCount', 'likeCount', 'favouriteCount', 'commentCount',\n",
    "                                           'duration', 'definition', 'caption']]"
   ]
  },
  {
   "cell_type": "code",
   "execution_count": 118,
   "metadata": {},
   "outputs": [
    {
     "data": {
      "text/html": [
       "<div>\n",
       "<style scoped>\n",
       "    .dataframe tbody tr th:only-of-type {\n",
       "        vertical-align: middle;\n",
       "    }\n",
       "\n",
       "    .dataframe tbody tr th {\n",
       "        vertical-align: top;\n",
       "    }\n",
       "\n",
       "    .dataframe thead th {\n",
       "        text-align: right;\n",
       "    }\n",
       "</style>\n",
       "<table border=\"1\" class=\"dataframe\">\n",
       "  <thead>\n",
       "    <tr style=\"text-align: right;\">\n",
       "      <th></th>\n",
       "      <th>video_id</th>\n",
       "      <th>channelTitle</th>\n",
       "      <th>title</th>\n",
       "      <th>description</th>\n",
       "      <th>tags</th>\n",
       "      <th>publishedAt</th>\n",
       "      <th>viewCount</th>\n",
       "      <th>likeCount</th>\n",
       "      <th>favouriteCount</th>\n",
       "      <th>commentCount</th>\n",
       "      <th>duration</th>\n",
       "      <th>definition</th>\n",
       "      <th>caption</th>\n",
       "    </tr>\n",
       "  </thead>\n",
       "  <tbody>\n",
       "    <tr>\n",
       "      <th>68</th>\n",
       "      <td>p4yxn8ZahPI</td>\n",
       "      <td>Sezen Aksu</td>\n",
       "      <td>Sezen Aksu - Ben De Yoluma Giderim (Official V...</td>\n",
       "      <td>\"Bu haftaki çalışmamız, fırından çıktıktan son...</td>\n",
       "      <td>[sezen aksu, Turkish music, Turkish Pop Music,...</td>\n",
       "      <td>2020-02-20T20:30:04Z</td>\n",
       "      <td>124570135</td>\n",
       "      <td>646911</td>\n",
       "      <td>0</td>\n",
       "      <td>49330</td>\n",
       "      <td>PT3M44S</td>\n",
       "      <td>hd</td>\n",
       "      <td>true</td>\n",
       "    </tr>\n",
       "  </tbody>\n",
       "</table>\n",
       "</div>"
      ],
      "text/plain": [
       "       video_id channelTitle  \\\n",
       "68  p4yxn8ZahPI   Sezen Aksu   \n",
       "\n",
       "                                                title  \\\n",
       "68  Sezen Aksu - Ben De Yoluma Giderim (Official V...   \n",
       "\n",
       "                                          description  \\\n",
       "68  \"Bu haftaki çalışmamız, fırından çıktıktan son...   \n",
       "\n",
       "                                                 tags           publishedAt  \\\n",
       "68  [sezen aksu, Turkish music, Turkish Pop Music,...  2020-02-20T20:30:04Z   \n",
       "\n",
       "    viewCount likeCount  favouriteCount commentCount duration definition  \\\n",
       "68  124570135    646911               0        49330  PT3M44S         hd   \n",
       "\n",
       "   caption  \n",
       "68    true  "
      ]
     },
     "execution_count": 118,
     "metadata": {},
     "output_type": "execute_result"
    }
   ],
   "source": [
    "most_liked_video_df = pd.DataFrame([most_liked_video_info])\n",
    "most_liked_video_df.head()"
   ]
  },
  {
   "cell_type": "code",
   "execution_count": 119,
   "metadata": {},
   "outputs": [
    {
     "data": {
      "text/html": [
       "<div>\n",
       "<style scoped>\n",
       "    .dataframe tbody tr th:only-of-type {\n",
       "        vertical-align: middle;\n",
       "    }\n",
       "\n",
       "    .dataframe tbody tr th {\n",
       "        vertical-align: top;\n",
       "    }\n",
       "\n",
       "    .dataframe thead th {\n",
       "        text-align: right;\n",
       "    }\n",
       "</style>\n",
       "<table border=\"1\" class=\"dataframe\">\n",
       "  <thead>\n",
       "    <tr style=\"text-align: right;\">\n",
       "      <th></th>\n",
       "      <th>video_id</th>\n",
       "      <th>channelTitle</th>\n",
       "      <th>title</th>\n",
       "      <th>description</th>\n",
       "      <th>tags</th>\n",
       "      <th>publishedAt</th>\n",
       "      <th>viewCount</th>\n",
       "      <th>likeCount</th>\n",
       "      <th>favouriteCount</th>\n",
       "      <th>commentCount</th>\n",
       "      <th>duration</th>\n",
       "      <th>definition</th>\n",
       "      <th>caption</th>\n",
       "    </tr>\n",
       "  </thead>\n",
       "  <tbody>\n",
       "    <tr>\n",
       "      <th>68</th>\n",
       "      <td>p4yxn8ZahPI</td>\n",
       "      <td>Sezen Aksu</td>\n",
       "      <td>Sezen Aksu - Ben De Yoluma Giderim (Official V...</td>\n",
       "      <td>\"Bu haftaki çalışmamız, fırından çıktıktan son...</td>\n",
       "      <td>[sezen aksu, Turkish music, Turkish Pop Music,...</td>\n",
       "      <td>2020-02-20T20:30:04Z</td>\n",
       "      <td>124570135</td>\n",
       "      <td>646911</td>\n",
       "      <td>0</td>\n",
       "      <td>49330</td>\n",
       "      <td>PT3M44S</td>\n",
       "      <td>hd</td>\n",
       "      <td>true</td>\n",
       "    </tr>\n",
       "    <tr>\n",
       "      <th>69</th>\n",
       "      <td>uVaG7dvT91s</td>\n",
       "      <td>Sezen Aksu</td>\n",
       "      <td>Sezen Aksu - Yetinmeyi Bilir Misin? (Official ...</td>\n",
       "      <td>\"Bu şarkının bestecisi Serkan İzzet Özdoğan. A...</td>\n",
       "      <td>[sezen aksu, Turkish music, Turkish Pop Music,...</td>\n",
       "      <td>2020-01-16T21:00:04Z</td>\n",
       "      <td>58506160</td>\n",
       "      <td>450310</td>\n",
       "      <td>0</td>\n",
       "      <td>19802</td>\n",
       "      <td>PT2M59S</td>\n",
       "      <td>hd</td>\n",
       "      <td>true</td>\n",
       "    </tr>\n",
       "    <tr>\n",
       "      <th>235</th>\n",
       "      <td>D-i77gTIEWM</td>\n",
       "      <td>Sezen Aksu</td>\n",
       "      <td>Sezen Aksu - İhanetten Geri Kalan (Official Au...</td>\n",
       "      <td>Biraz Pop Biraz Sezen - İhanetten Geri Kalan \\...</td>\n",
       "      <td>[sezen aksu, YENİ ALBÜM, SEZEN AKSU YENİ, SEZE...</td>\n",
       "      <td>2017-01-23T18:45:19Z</td>\n",
       "      <td>85830803</td>\n",
       "      <td>341228</td>\n",
       "      <td>0</td>\n",
       "      <td>17376</td>\n",
       "      <td>PT3M57S</td>\n",
       "      <td>hd</td>\n",
       "      <td>false</td>\n",
       "    </tr>\n",
       "    <tr>\n",
       "      <th>213</th>\n",
       "      <td>6ywcf07KQZA</td>\n",
       "      <td>Sezen Aksu</td>\n",
       "      <td>Sezen Aksu - Manifesto (Official Video)</td>\n",
       "      <td>Manifesto (Biraz Pop Biraz Sezen, 2017) \\n\\n#l...</td>\n",
       "      <td>[sezen aksu, manifesto, sezen aksu manifesto, ...</td>\n",
       "      <td>2017-05-27T08:00:20Z</td>\n",
       "      <td>66714620</td>\n",
       "      <td>337036</td>\n",
       "      <td>0</td>\n",
       "      <td>30940</td>\n",
       "      <td>PT3M31S</td>\n",
       "      <td>hd</td>\n",
       "      <td>true</td>\n",
       "    </tr>\n",
       "    <tr>\n",
       "      <th>247</th>\n",
       "      <td>-aW8x1jTA2U</td>\n",
       "      <td>Sezen Aksu</td>\n",
       "      <td>Sezen Aksu - Biliyorsun (Official Audio)</td>\n",
       "      <td>Hayat bazen öyle insafsız ki \\nKüçük bir boşlu...</td>\n",
       "      <td>[sezen aksu, Biliyorsun, Ağlamak Güzeldir, Sez...</td>\n",
       "      <td>2016-12-26T06:29:53Z</td>\n",
       "      <td>65600913</td>\n",
       "      <td>301040</td>\n",
       "      <td>0</td>\n",
       "      <td>12396</td>\n",
       "      <td>PT5M17S</td>\n",
       "      <td>hd</td>\n",
       "      <td>false</td>\n",
       "    </tr>\n",
       "  </tbody>\n",
       "</table>\n",
       "</div>"
      ],
      "text/plain": [
       "        video_id channelTitle  \\\n",
       "68   p4yxn8ZahPI   Sezen Aksu   \n",
       "69   uVaG7dvT91s   Sezen Aksu   \n",
       "235  D-i77gTIEWM   Sezen Aksu   \n",
       "213  6ywcf07KQZA   Sezen Aksu   \n",
       "247  -aW8x1jTA2U   Sezen Aksu   \n",
       "\n",
       "                                                 title  \\\n",
       "68   Sezen Aksu - Ben De Yoluma Giderim (Official V...   \n",
       "69   Sezen Aksu - Yetinmeyi Bilir Misin? (Official ...   \n",
       "235  Sezen Aksu - İhanetten Geri Kalan (Official Au...   \n",
       "213            Sezen Aksu - Manifesto (Official Video)   \n",
       "247           Sezen Aksu - Biliyorsun (Official Audio)   \n",
       "\n",
       "                                           description  \\\n",
       "68   \"Bu haftaki çalışmamız, fırından çıktıktan son...   \n",
       "69   \"Bu şarkının bestecisi Serkan İzzet Özdoğan. A...   \n",
       "235  Biraz Pop Biraz Sezen - İhanetten Geri Kalan \\...   \n",
       "213  Manifesto (Biraz Pop Biraz Sezen, 2017) \\n\\n#l...   \n",
       "247  Hayat bazen öyle insafsız ki \\nKüçük bir boşlu...   \n",
       "\n",
       "                                                  tags           publishedAt  \\\n",
       "68   [sezen aksu, Turkish music, Turkish Pop Music,...  2020-02-20T20:30:04Z   \n",
       "69   [sezen aksu, Turkish music, Turkish Pop Music,...  2020-01-16T21:00:04Z   \n",
       "235  [sezen aksu, YENİ ALBÜM, SEZEN AKSU YENİ, SEZE...  2017-01-23T18:45:19Z   \n",
       "213  [sezen aksu, manifesto, sezen aksu manifesto, ...  2017-05-27T08:00:20Z   \n",
       "247  [sezen aksu, Biliyorsun, Ağlamak Güzeldir, Sez...  2016-12-26T06:29:53Z   \n",
       "\n",
       "     viewCount  likeCount  favouriteCount commentCount duration definition  \\\n",
       "68   124570135     646911               0        49330  PT3M44S         hd   \n",
       "69    58506160     450310               0        19802  PT2M59S         hd   \n",
       "235   85830803     341228               0        17376  PT3M57S         hd   \n",
       "213   66714620     337036               0        30940  PT3M31S         hd   \n",
       "247   65600913     301040               0        12396  PT5M17S         hd   \n",
       "\n",
       "    caption  \n",
       "68     true  \n",
       "69     true  \n",
       "235   false  \n",
       "213    true  \n",
       "247   false  "
      ]
     },
     "execution_count": 119,
     "metadata": {},
     "output_type": "execute_result"
    }
   ],
   "source": [
    "# 'likeCount' sütununu sayısal veri türüne dönüştürelim\n",
    "video_details['likeCount'] = pd.to_numeric(video_details['likeCount'], errors='coerce')\n",
    "\n",
    "# NaN değerleri temizle\n",
    "video_details = video_details.dropna(subset=['likeCount'])\n",
    "\n",
    "# 'likeCount' sütununa göre DataFrame'i sırala ve en çok izlenen 10 videoyu seç\n",
    "top_10_liked = video_details.nlargest(10, 'likeCount')\n",
    "\n",
    "# En çok beğenilen 10 videoya ait bilgiler\n",
    "top_10_liked_video_info = top_10_liked[['video_id','channelTitle', 'title', 'description', 'tags', 'publishedAt',\n",
    "                                           'viewCount', 'likeCount', 'favouriteCount', 'commentCount',\n",
    "                                           'duration', 'definition', 'caption']]\n",
    "\n",
    "# top_10_viewed_video_info değişkeni artık en çok beğenilen 10 videoya ait tüm bilgileri içerir\n",
    "top_10_liked_video_df = pd.DataFrame(top_10_liked_video_info)\n",
    "top_10_liked_video_df.head(5)"
   ]
  },
  {
   "cell_type": "code",
   "execution_count": 120,
   "metadata": {},
   "outputs": [
    {
     "data": {
      "image/png": "[encoded data removed]",
      "text/plain": [
       "<Figure size 864x576 with 1 Axes>"
      ]
     },
     "metadata": {},
     "output_type": "display_data"
    }
   ],
   "source": [
    "# En çok beğenilen 10 videoya ait DataFrame'i kullanarak çubuk grafik oluştur\n",
    "sns.set(rc={'figure.figsize': (12, 8)})\n",
    "sns.barplot(x='viewCount', y='title', data=top_10_liked_video_df, palette='viridis')\n",
    "\n",
    "# Grafik üzerine eklemeler\n",
    "plt.xlabel(\"Beğeni Sayısı\")\n",
    "plt.ylabel(\"Video Adı\")\n",
    "plt.title(\"En Çok Beğenilen 10 Video\")\n",
    "plt.show()"
   ]
  },
  {
   "cell_type": "code",
   "execution_count": 121,
   "metadata": {},
   "outputs": [
    {
     "data": {
      "image/png": "[encoded data removed]",
      "text/plain": [
       "<Figure size 864x432 with 1 Axes>"
      ]
     },
     "metadata": {},
     "output_type": "display_data"
    }
   ],
   "source": [
    "# En çok beğeni alan ve en çok izlenen 10 videoyu seç\n",
    "top_10_likes = video_details.nlargest(10, 'likeCount')\n",
    "top_10_views = video_details.nlargest(10, 'viewCount')\n",
    "\n",
    "# Çift yönlü scatter plot\n",
    "plt.figure(figsize=(12, 6))\n",
    "sns.scatterplot(x='viewCount', y='likeCount', data=top_10_views, color='blue', label='En Çok İzlenen')\n",
    "sns.scatterplot(x='viewCount', y='likeCount', data=top_10_likes, color='orange', label='En Çok Beğeni Alan')\n",
    "\n",
    "# Regresyon çizgisi ekle\n",
    "sns.regplot(x='viewCount', y='likeCount', data=top_10_views, scatter=False, color='blue')\n",
    "sns.regplot(x='viewCount', y='likeCount', data=top_10_likes, scatter=False, color='orange')\n",
    "\n",
    "# Grafik üzerine eklemeler\n",
    "plt.xlabel('Görüntülenme Sayısı')\n",
    "plt.ylabel('Beğeni Sayısı')\n",
    "plt.title('En Çok İzlenen ve Beğeni Alan 10 Video')\n",
    "plt.legend()\n",
    "plt.show()"
   ]
  },
  {
   "cell_type": "code",
   "execution_count": 122,
   "metadata": {},
   "outputs": [
    {
     "data": {
      "image/png": "[encoded data removed]",
      "text/plain": [
       "<Figure size 576x432 with 2 Axes>"
      ]
     },
     "metadata": {},
     "output_type": "display_data"
    }
   ],
   "source": [
    "# En çok beğeni alan ve en çok izlenen 10 videoyu seç\n",
    "top_10_likes = video_details.nlargest(10, 'likeCount')\n",
    "top_10_views = video_details.nlargest(10, 'viewCount')\n",
    "\n",
    "# Seçilen videoların 'likeCount' ve 'viewCount' değişkenleri arasındaki korelasyonu hesapla\n",
    "correlation_matrix_likes = top_10_likes[['likeCount', 'viewCount']].corr()\n",
    "\n",
    "# Seçilen videoların 'likeCount' ve 'viewCount' değişkenleri arasındaki korelasyonu ısı haritası ile görselleştir\n",
    "plt.figure(figsize=(8, 6))\n",
    "sns.heatmap(correlation_matrix_likes, annot=True, cmap='coolwarm', fmt='.2f', linewidths=.5)\n",
    "plt.title('En Çok Beğeni Alan 10 Videoların Korelasyonu')\n",
    "plt.show()"
   ]
  },
  {
   "cell_type": "markdown",
   "metadata": {},
   "source": [
    "Yorum : Beğeni sayısı ve izlenme sayısı arasında ki korelasyon katsayısı aralarında güçlü bir ilişki olduğunu gösterir."
   ]
  },
  {
   "cell_type": "code",
   "execution_count": 123,
   "metadata": {},
   "outputs": [
    {
     "name": "stdout",
     "output_type": "stream",
     "text": [
      "p4yxn8ZahPI\n"
     ]
    }
   ],
   "source": [
    "# En çok izlenen videoya ait ID'yi liste içine eklemek\n",
    "most_viewed_video_id = most_viewed['video_id']\n",
    "\n",
    "# most_viewed_video_id artık en çok izlenen videoya ait ID'yi içeren bir pandas Serisi\n",
    "print(most_viewed_video_id)"
   ]
  },
  {
   "cell_type": "code",
   "execution_count": 124,
   "metadata": {},
   "outputs": [
    {
     "data": {
      "text/plain": [
       "'{\\n  \"kind\": \"youtube#videoListResponse\",\\n  \"etag\": \"m-EA-EKrrG_v-9hdA_z-PzhRZpQ\",\\n  \"items\": [\\n    {\\n      \"kind\": \"youtube#video\",\\n      \"etag\": \"6ILZBE3DKB8nrr0s1cWLIYzzRow\",\\n      \"id\": \"p4yxn8ZahPI\",\\n      \"snippet\": {\\n        \"publishedAt\": \"2020-02-20T20:30:04Z\",\\n        \"channelId\": \"UC6OI7Crv96jgra5pwJNDFRQ\",\\n        \"title\": \"Sezen Aksu - Ben De Yoluma Giderim (Official Video)\",\\n        \"description\": \"\\\\\"Bu haftaki \\\\u00e7al\\\\u0131\\\\u015fmam\\\\u0131z, f\\\\u0131r\\\\u0131ndan \\\\u00e7\\\\u0131kt\\\\u0131ktan sonra biraz bekletilmi\\\\u015f yeni bir \\\\u015fark\\\\u0131.  \\\\u015e\\\\u00f6yle ki; \\\\u015fark\\\\u0131y\\\\u0131 size teslim ediyorum. \\\\u00d6zellikle de \\\\u00e7almaya, s\\\\u00f6ylemeye hevesli olanlar i\\\\u00e7in d\\\\u00fc\\\\u015f\\\\u00fcnd\\\\u00fcm bunu. Notas\\\\u0131 ve armonilerine a\\\\u015fa\\\\u011f\\\\u0131daki linkten ula\\\\u015fabilirsiniz. Buyurun size cover yerine, s\\\\u0131f\\\\u0131r \\\\u015fark\\\\u0131!\\\\n\\\\nKompozisyon Erman Arda\\\\u2019n\\\\u0131n. Fikir vermesi a\\\\u00e7\\\\u0131s\\\\u0131ndan biraz daha d\\\\u00fczenlemeye evrilmi\\\\u015f olarak tasarland\\\\u0131 ama siz tamamen farkl\\\\u0131 da d\\\\u00fc\\\\u015f\\\\u00fcnebilirsiniz. Bildi\\\\u011finiz \\\\u00fczere yasaks\\\\u0131z b\\\\u00f6lgeyim ben. \\\\ud83d\\\\ude00\\\\n\\\\n\\\\u015eark\\\\u0131n\\\\u0131n mini maceras\\\\u0131na gelince: Bilenleriniz vard\\\\u0131r, st\\\\u00fcdyomuzun ad\\\\u0131 \\\\u201cLonca\\\\u201d. Temel prensibi de herkesin kendi birikimini di\\\\u011ferleriyle payla\\\\u015fmas\\\\u0131; yeniden yeni \\\\u00fcretim. \\\\n\\\\nSt\\\\u00fcdyo sorumlumuz, master\\\\u2019imiz, Onno\\\\u2019yu kaybetti\\\\u011fimizden bug\\\\u00fcne elimi hi\\\\u00e7 b\\\\u0131rakmayan Murat Bulut; ikinci tonmaister\\\\u2019imiz onun \\\\u00f6\\\\u011frencisi, Emir Akbulut. Emir\\\\u2019in sesinin ve kula\\\\u011f\\\\u0131n\\\\u0131n ilk g\\\\u00fcnden beri fark\\\\u0131nday\\\\u0131m ama bekledim biraz bizim ekiple tam anlam\\\\u0131yla hemhal olup rahatlamas\\\\u0131n\\\\u0131, konulara ve durumlara h\\\\u00e2kim olmas\\\\u0131n\\\\u0131, biraz daha olgunla\\\\u015fmas\\\\u0131n\\\\u0131\\\\u2026 \\\\n\\\\nNeticede, bu \\\\u015fark\\\\u0131n\\\\u0131n demosunu \\\\u201csen oku\\\\u201d dedik. \\\\u00d6yle bir yal\\\\u0131nl\\\\u0131k, duruluk ve duyguyla okudu ki \\\\u015fu ana kadar ben dahil o etkiyi kimse yaratamad\\\\u0131 tekrar. Ba\\\\u015fkas\\\\u0131n\\\\u0131n onay\\\\u0131na ihtiya\\\\u00e7 hissetmeyenlerin g\\\\u00f6steri\\\\u015fsizli\\\\u011finin g\\\\u00fcc\\\\u00fc b\\\\u00fcy\\\\u00fckt\\\\u00fcr; o da ya \\\\u00e7ocuklarda ya delilerde ya da vitrine \\\\u00e7\\\\u0131kmak akl\\\\u0131nda olmayanlarda olur. Benim gibi sonradan akl\\\\u0131 ba\\\\u015f\\\\u0131na gelenler ise \\\\u201cbeni g\\\\u00f6r\\\\u00fcn, beni duyun\\\\u201d diye \\\\u00e7\\\\u0131rp\\\\u0131n\\\\u0131rken tak\\\\u0131p tak\\\\u0131\\\\u015ft\\\\u0131rd\\\\u0131klar\\\\u0131ndan, yak\\\\u0131p yak\\\\u0131\\\\u015ft\\\\u0131rd\\\\u0131klar\\\\u0131ndan yani \\\\u00e7erinden \\\\u00e7\\\\u00f6p\\\\u00fcnden kurtulmak i\\\\u00e7in debelenir dururlar\\\\u2026\\\\n\\\\nE peki \\\\u201cDemoyu niye sen okudun?\\\\u201d diye sorarsan\\\\u0131z, \\\\u201cAy ke\\\\u015fke bunu da sen s\\\\u00f6yleseydin.\\\\u201d diye i\\\\u00e7imi t\\\\u00fcketmeyin(!) diye. \\\\ud83d\\\\ude00 Ahanda yeni \\\\u015fark\\\\u0131, ahanda nota, ahanda armoni, ahanda O KADIN. \\\\ud83d\\\\ude00 \\\\n\\\\nBir ara Mustafa Sandal ile konu\\\\u015ftuk; Mustafa\\\\u2019n\\\\u0131n \\\\u015fark\\\\u0131 s\\\\u00f6yleme tarz\\\\u0131n\\\\u0131 ve sal\\\\u0131nt\\\\u0131s\\\\u0131n\\\\u0131 \\\\u00e7ok severim. Onunla da bu \\\\u015fark\\\\u0131y\\\\u0131 gen\\\\u00e7 m\\\\u00fczisyenlerin de\\\\u011ferlendirmesinin daha faydal\\\\u0131 olaca\\\\u011f\\\\u0131 konusunda hemfikir olduk.\\\\n\\\\n\\\\u015eark\\\\u0131 an itibar\\\\u0131yla sizin! \\\\u00c7al\\\\u0131n, s\\\\u00f6yleyin, d\\\\u00fczenlemesini de\\\\u011fi\\\\u015ftirin, YouTube\\\\u2019da veya sosyal mecralar\\\\u0131n\\\\u0131zda payla\\\\u015f\\\\u0131n. Belki bir yerlerde gizli bir yetenek ile bu \\\\u015fark\\\\u0131 bulu\\\\u015fur, bize bamba\\\\u015fka olarak geri gelir. Kim biling? \\\\ud83d\\\\ude00\\\\n \\\\nNot: Bu arada st\\\\u00fcdyomuzun \\\\u015fu ana kadar \\\\u00e2t\\\\u0131l kalan bir instagram kanal\\\\u0131 var (@studiolonca). \\\\u015eark\\\\u0131lar\\\\u0131n ilk andan son ana kadar geli\\\\u015fip olu\\\\u015fma s\\\\u00fcrecini merak edenler i\\\\u00e7in kanal\\\\u0131 yava\\\\u015f yava\\\\u015f aktifle\\\\u015ftirme karar\\\\u0131 ald\\\\u0131k. Olabildi\\\\u011fince katk\\\\u0131 sunabilecek hale getirmeye \\\\u00e7al\\\\u0131\\\\u015faca\\\\u011f\\\\u0131z. Biz de yolda \\\\u00f6\\\\u011frenece\\\\u011fiz neler yapabilece\\\\u011fimizi. \\\\u0130n\\\\u015fallah umdu\\\\u011fum gibi olur. Az\\\\u0131c\\\\u0131k sab\\\\u0131r.\\\\n\\\\n\\\\u0130yilikle, g\\\\u00fczellikle, muhabbetle kal\\\\u0131n\\\\u2026\\\\\"\\\\n\\\\nSezen Aksu\\\\n\\\\n\\\\ud83c\\\\udfb6 Nota linki:  http://www.sezenaksu.com.tr/BEN_DE_YOLUMA_GIDERIM.pdf  \\\\ud83c\\\\udfb6\\\\n\\\\n~~~~~~~~~~~~~~~~~~~~~~~~~\\\\n\\\\n\\\\u015eark\\\\u0131 S\\\\u00f6zleri:\\\\n\\\\nPeki nas\\\\u0131l istersen \\\\u00f6yle olsun\\\\nTutamam tutamam gideni\\\\nBelli ki k\\\\u0131rmak istemiyorsun kalbimi\\\\nK\\\\u0131yamam, bir de k\\\\u0131yamam iyi mi?\\\\n\\\\nGiden gitmi\\\\u015ftir zaten\\\\nKesemem kesemem yolunu\\\\nHani sat\\\\u0131n al\\\\u0131nan sevgiye al\\\\u0131\\\\u015ft\\\\u0131r\\\\u0131lm\\\\u0131\\\\u015f\\\\nBir \\\\u00e7ocu\\\\u011fun her oyunca\\\\u011fa \\\\u00e7abucak doyumu\\\\n\\\\nBen de yoluma giderim\\\\nEzdirmem kendimi \\\\nAma gezdirmem de g\\\\u00f6nl\\\\u00fcm\\\\u00fc\\\\nGider ac\\\\u0131m\\\\u0131 \\\\u00e7ekerim\\\\n\\\\nBeni \\\\u00f6zle isterim beni \\\\u00e7ok \\\\u00f6zle\\\\n\\\\u00dcz\\\\u00fcl \\\\u00fcz\\\\u00fcl bir s\\\\u00fcre\\\\nEn az\\\\u0131ndan ince bir kabuk ba\\\\u011flas\\\\u0131n\\\\nAz\\\\u0131c\\\\u0131k e\\\\u015fitlik sa\\\\u011flas\\\\u0131n\\\\n\\\\n~~~~~~~~~~~~~~~~~~~~~~~~~\\\\n\\\\nS\\\\u00f6z & M\\\\u00fczik: Sezen Aksu\\\\nD\\\\u00fczenleme: Erman Arda\\\\nVideo Prod\\\\u00fcksiyon: Videomite\\\\n\\\\u0130ngilizce Alt Yaz\\\\u0131 \\\\u00c7eviri: F\\\\u00fcsun Tanyeri Sava\\\\u015f\\\\n\\\\n=============================\\\\n\\\\nSezen Aksu Resmi YouTube Kanal\\\\u0131na Abone Olun: https://goo.gl/xPnZlA\\\\n\\\\n=================================\\\\n\\\\nResmi Web Sitesi - http://www.sezenaksu.com.tr\\\\nFacebook - https://www.facebook.com/SezenAksu\\\\n\\\\n=================================\\\\n\\\\n#sezenaksu #t\\\\u00fcrk\\\\u00e7epop #minikser\\\\u00e7e #sezenaksu\\\\u015fark\\\\u0131lar\\\\u0131 #turkishpop #eniyit\\\\u00fcrk\\\\u015fark\\\\u0131lar #sezenaksusongs\",\\n        \"thumbnails\": {\\n          \"default\": {\\n            \"url\": \"https://i.ytimg.com/vi/p4yxn8ZahPI/default.jpg\",\\n            \"width\": 120,\\n            \"height\": 90\\n          },\\n          \"medium\": {\\n            \"url\": \"https://i.ytimg.com/vi/p4yxn8ZahPI/mqdefault.jpg\",\\n            \"width\": 320,\\n            \"height\": 180\\n          },\\n          \"high\": {\\n            \"url\": \"https://i.ytimg.com/vi/p4yxn8ZahPI/hqdefault.jpg\",\\n            \"width\": 480,\\n            \"height\": 360\\n          },\\n          \"standard\": {\\n            \"url\": \"https://i.ytimg.com/vi/p4yxn8ZahPI/sddefault.jpg\",\\n            \"width\": 640,\\n            \"height\": 480\\n          },\\n          \"maxres\": {\\n            \"url\": \"https://i.ytimg.com/vi/p4yxn8ZahPI/maxresdefault.jpg\",\\n            \"width\": 1280,\\n            \"height\": 720\\n          }\\n        },\\n        \"channelTitle\": \"Sezen Aksu\",\\n        \"tags\": [\\n          \"sezen aksu\",\\n          \"Turkish music\",\\n          \"Turkish Pop Music\",\\n          \"t\\\\u00fcrk\\\\u00e7e pop\",\\n          \"romantik \\\\u015fark\\\\u0131lar\",\\n          \"en iyi t\\\\u00fcrk \\\\u015fark\\\\u0131lar\\\\u0131\",\\n          \"minik ser\\\\u00e7e\",\\n          \"turkish pop\",\\n          \"en yeni \\\\u015fark\\\\u0131lar\",\\n          \"\\\\u0645\\\\u0648\\\\u0633\\\\u064a\\\\u0642\\\\u0649\",\\n          \"\\\\u0645\\\\u0648\\\\u0633\\\\u064a\\\\u0642\\\\u0649 \\\\u0627\\\\u0644\\\\u0628\\\\u0648\\\\u0628 \\\\u0627\\\\u0644\\\\u062a\\\\u0631\\\\u0643\\\\u064a\\\\u0629\",\\n          \"A\\\\u015fk \\\\u015fark\\\\u0131lar\\\\u0131\",\\n          \"Ben De Yoluma Giderim\",\\n          \"t\\\\u00fcrk\\\\u00e7e m\\\\u00fczik\",\\n          \"sezen aksu demolar\\\\u0131\",\\n          \"sezen aksu yeni \\\\u015fark\\\\u0131s\\\\u0131\",\\n          \"sezen aksu demo\",\\n          \"sezen aksu demo alb\\\\u00fcm\\\\u00fc\",\\n          \"sezen aksu yeni alb\\\\u00fcm\",\\n          \"\\\\u0623\\\\u063a\\\\u0627\\\\u0646\\\\u064a \\\\u062d\\\\u0628\",\\n          \"love songs\",\\n          \"Turkish songs\",\\n          \"demo 2\",\\n          \"erman arda\",\\n          \"gider ac\\\\u0131m\\\\u0131 \\\\u00e7ekerim\",\\n          \"sezen aksu \\\\u015fark\\\\u0131lar\\\\u0131\",\\n          \"sezen aksu demo 2\"\\n        ],\\n        \"categoryId\": \"10\",\\n        \"liveBroadcastContent\": \"none\",\\n        \"defaultLanguage\": \"tr\",\\n        \"localized\": {\\n          \"title\": \"Sezen Aksu - Ben De Yoluma Giderim (Official Video)\",\\n          \"description\": \"\\\\\"Bu haftaki \\\\u00e7al\\\\u0131\\\\u015fmam\\\\u0131z, f\\\\u0131r\\\\u0131ndan \\\\u00e7\\\\u0131kt\\\\u0131ktan sonra biraz bekletilmi\\\\u015f yeni bir \\\\u015fark\\\\u0131.  \\\\u015e\\\\u00f6yle ki; \\\\u015fark\\\\u0131y\\\\u0131 size teslim ediyorum. \\\\u00d6zellikle de \\\\u00e7almaya, s\\\\u00f6ylemeye hevesli olanlar i\\\\u00e7in d\\\\u00fc\\\\u015f\\\\u00fcnd\\\\u00fcm bunu. Notas\\\\u0131 ve armonilerine a\\\\u015fa\\\\u011f\\\\u0131daki linkten ula\\\\u015fabilirsiniz. Buyurun size cover yerine, s\\\\u0131f\\\\u0131r \\\\u015fark\\\\u0131!\\\\n\\\\nKompozisyon Erman Arda\\\\u2019n\\\\u0131n. Fikir vermesi a\\\\u00e7\\\\u0131s\\\\u0131ndan biraz daha d\\\\u00fczenlemeye evrilmi\\\\u015f olarak tasarland\\\\u0131 ama siz tamamen farkl\\\\u0131 da d\\\\u00fc\\\\u015f\\\\u00fcnebilirsiniz. Bildi\\\\u011finiz \\\\u00fczere yasaks\\\\u0131z b\\\\u00f6lgeyim ben. \\\\ud83d\\\\ude00\\\\n\\\\n\\\\u015eark\\\\u0131n\\\\u0131n mini maceras\\\\u0131na gelince: Bilenleriniz vard\\\\u0131r, st\\\\u00fcdyomuzun ad\\\\u0131 \\\\u201cLonca\\\\u201d. Temel prensibi de herkesin kendi birikimini di\\\\u011ferleriyle payla\\\\u015fmas\\\\u0131; yeniden yeni \\\\u00fcretim. \\\\n\\\\nSt\\\\u00fcdyo sorumlumuz, master\\\\u2019imiz, Onno\\\\u2019yu kaybetti\\\\u011fimizden bug\\\\u00fcne elimi hi\\\\u00e7 b\\\\u0131rakmayan Murat Bulut; ikinci tonmaister\\\\u2019imiz onun \\\\u00f6\\\\u011frencisi, Emir Akbulut. Emir\\\\u2019in sesinin ve kula\\\\u011f\\\\u0131n\\\\u0131n ilk g\\\\u00fcnden beri fark\\\\u0131nday\\\\u0131m ama bekledim biraz bizim ekiple tam anlam\\\\u0131yla hemhal olup rahatlamas\\\\u0131n\\\\u0131, konulara ve durumlara h\\\\u00e2kim olmas\\\\u0131n\\\\u0131, biraz daha olgunla\\\\u015fmas\\\\u0131n\\\\u0131\\\\u2026 \\\\n\\\\nNeticede, bu \\\\u015fark\\\\u0131n\\\\u0131n demosunu \\\\u201csen oku\\\\u201d dedik. \\\\u00d6yle bir yal\\\\u0131nl\\\\u0131k, duruluk ve duyguyla okudu ki \\\\u015fu ana kadar ben dahil o etkiyi kimse yaratamad\\\\u0131 tekrar. Ba\\\\u015fkas\\\\u0131n\\\\u0131n onay\\\\u0131na ihtiya\\\\u00e7 hissetmeyenlerin g\\\\u00f6steri\\\\u015fsizli\\\\u011finin g\\\\u00fcc\\\\u00fc b\\\\u00fcy\\\\u00fckt\\\\u00fcr; o da ya \\\\u00e7ocuklarda ya delilerde ya da vitrine \\\\u00e7\\\\u0131kmak akl\\\\u0131nda olmayanlarda olur. Benim gibi sonradan akl\\\\u0131 ba\\\\u015f\\\\u0131na gelenler ise \\\\u201cbeni g\\\\u00f6r\\\\u00fcn, beni duyun\\\\u201d diye \\\\u00e7\\\\u0131rp\\\\u0131n\\\\u0131rken tak\\\\u0131p tak\\\\u0131\\\\u015ft\\\\u0131rd\\\\u0131klar\\\\u0131ndan, yak\\\\u0131p yak\\\\u0131\\\\u015ft\\\\u0131rd\\\\u0131klar\\\\u0131ndan yani \\\\u00e7erinden \\\\u00e7\\\\u00f6p\\\\u00fcnden kurtulmak i\\\\u00e7in debelenir dururlar\\\\u2026\\\\n\\\\nE peki \\\\u201cDemoyu niye sen okudun?\\\\u201d diye sorarsan\\\\u0131z, \\\\u201cAy ke\\\\u015fke bunu da sen s\\\\u00f6yleseydin.\\\\u201d diye i\\\\u00e7imi t\\\\u00fcketmeyin(!) diye. \\\\ud83d\\\\ude00 Ahanda yeni \\\\u015fark\\\\u0131, ahanda nota, ahanda armoni, ahanda O KADIN. \\\\ud83d\\\\ude00 \\\\n\\\\nBir ara Mustafa Sandal ile konu\\\\u015ftuk; Mustafa\\\\u2019n\\\\u0131n \\\\u015fark\\\\u0131 s\\\\u00f6yleme tarz\\\\u0131n\\\\u0131 ve sal\\\\u0131nt\\\\u0131s\\\\u0131n\\\\u0131 \\\\u00e7ok severim. Onunla da bu \\\\u015fark\\\\u0131y\\\\u0131 gen\\\\u00e7 m\\\\u00fczisyenlerin de\\\\u011ferlendirmesinin daha faydal\\\\u0131 olaca\\\\u011f\\\\u0131 konusunda hemfikir olduk.\\\\n\\\\n\\\\u015eark\\\\u0131 an itibar\\\\u0131yla sizin! \\\\u00c7al\\\\u0131n, s\\\\u00f6yleyin, d\\\\u00fczenlemesini de\\\\u011fi\\\\u015ftirin, YouTube\\\\u2019da veya sosyal mecralar\\\\u0131n\\\\u0131zda payla\\\\u015f\\\\u0131n. Belki bir yerlerde gizli bir yetenek ile bu \\\\u015fark\\\\u0131 bulu\\\\u015fur, bize bamba\\\\u015fka olarak geri gelir. Kim biling? \\\\ud83d\\\\ude00\\\\n \\\\nNot: Bu arada st\\\\u00fcdyomuzun \\\\u015fu ana kadar \\\\u00e2t\\\\u0131l kalan bir instagram kanal\\\\u0131 var (@studiolonca). \\\\u015eark\\\\u0131lar\\\\u0131n ilk andan son ana kadar geli\\\\u015fip olu\\\\u015fma s\\\\u00fcrecini merak edenler i\\\\u00e7in kanal\\\\u0131 yava\\\\u015f yava\\\\u015f aktifle\\\\u015ftirme karar\\\\u0131 ald\\\\u0131k. Olabildi\\\\u011fince katk\\\\u0131 sunabilecek hale getirmeye \\\\u00e7al\\\\u0131\\\\u015faca\\\\u011f\\\\u0131z. Biz de yolda \\\\u00f6\\\\u011frenece\\\\u011fiz neler yapabilece\\\\u011fimizi. \\\\u0130n\\\\u015fallah umdu\\\\u011fum gibi olur. Az\\\\u0131c\\\\u0131k sab\\\\u0131r.\\\\n\\\\n\\\\u0130yilikle, g\\\\u00fczellikle, muhabbetle kal\\\\u0131n\\\\u2026\\\\\"\\\\n\\\\nSezen Aksu\\\\n\\\\n\\\\ud83c\\\\udfb6 Nota linki:  http://www.sezenaksu.com.tr/BEN_DE_YOLUMA_GIDERIM.pdf  \\\\ud83c\\\\udfb6\\\\n\\\\n~~~~~~~~~~~~~~~~~~~~~~~~~\\\\n\\\\n\\\\u015eark\\\\u0131 S\\\\u00f6zleri:\\\\n\\\\nPeki nas\\\\u0131l istersen \\\\u00f6yle olsun\\\\nTutamam tutamam gideni\\\\nBelli ki k\\\\u0131rmak istemiyorsun kalbimi\\\\nK\\\\u0131yamam, bir de k\\\\u0131yamam iyi mi?\\\\n\\\\nGiden gitmi\\\\u015ftir zaten\\\\nKesemem kesemem yolunu\\\\nHani sat\\\\u0131n al\\\\u0131nan sevgiye al\\\\u0131\\\\u015ft\\\\u0131r\\\\u0131lm\\\\u0131\\\\u015f\\\\nBir \\\\u00e7ocu\\\\u011fun her oyunca\\\\u011fa \\\\u00e7abucak doyumu\\\\n\\\\nBen de yoluma giderim\\\\nEzdirmem kendimi \\\\nAma gezdirmem de g\\\\u00f6nl\\\\u00fcm\\\\u00fc\\\\nGider ac\\\\u0131m\\\\u0131 \\\\u00e7ekerim\\\\n\\\\nBeni \\\\u00f6zle isterim beni \\\\u00e7ok \\\\u00f6zle\\\\n\\\\u00dcz\\\\u00fcl \\\\u00fcz\\\\u00fcl bir s\\\\u00fcre\\\\nEn az\\\\u0131ndan ince bir kabuk ba\\\\u011flas\\\\u0131n\\\\nAz\\\\u0131c\\\\u0131k e\\\\u015fitlik sa\\\\u011flas\\\\u0131n\\\\n\\\\n~~~~~~~~~~~~~~~~~~~~~~~~~\\\\n\\\\nS\\\\u00f6z & M\\\\u00fczik: Sezen Aksu\\\\nD\\\\u00fczenleme: Erman Arda\\\\nVideo Prod\\\\u00fcksiyon: Videomite\\\\n\\\\u0130ngilizce Alt Yaz\\\\u0131 \\\\u00c7eviri: F\\\\u00fcsun Tanyeri Sava\\\\u015f\\\\n\\\\n=============================\\\\n\\\\nSezen Aksu Resmi YouTube Kanal\\\\u0131na Abone Olun: https://goo.gl/xPnZlA\\\\n\\\\n=================================\\\\n\\\\nResmi Web Sitesi - http://www.sezenaksu.com.tr\\\\nFacebook - https://www.facebook.com/SezenAksu\\\\n\\\\n=================================\\\\n\\\\n#sezenaksu #t\\\\u00fcrk\\\\u00e7epop #minikser\\\\u00e7e #sezenaksu\\\\u015fark\\\\u0131lar\\\\u0131 #turkishpop #eniyit\\\\u00fcrk\\\\u015fark\\\\u0131lar #sezenaksusongs\"\\n        },\\n        \"defaultAudioLanguage\": \"tr\"\\n      },\\n      \"statistics\": {\\n        \"viewCount\": \"124570135\",\\n        \"likeCount\": \"646911\",\\n        \"favoriteCount\": \"0\",\\n        \"commentCount\": \"49330\"\\n      }\\n    }\\n  ],\\n  \"pageInfo\": {\\n    \"totalResults\": 1,\\n    \"resultsPerPage\": 1\\n  }\\n}'"
      ]
     },
     "execution_count": 124,
     "metadata": {},
     "output_type": "execute_result"
    }
   ],
   "source": [
    "# Video istatistiklerini almak için API isteği oluşturalım.\n",
    "request = youtube.videos().list(\n",
    "    part=\"snippet,statistics\",\n",
    "    id= most_viewed_video_id\n",
    ")\n",
    "response = request.execute()\n",
    "\n",
    "# JSON formatında çıktıyı yazdıralım.\n",
    "json.dumps(response, indent=2)"
   ]
  },
  {
   "cell_type": "code",
   "execution_count": 125,
   "metadata": {},
   "outputs": [],
   "source": [
    "video_info = response['items'][0]\n",
    "title = video_info['snippet']['title']\n",
    "published_at = video_info['snippet']['publishedAt']\n",
    "view_count = video_info['statistics']['viewCount']\n",
    "like_count = video_info['statistics']['likeCount']\n",
    "favorite_count = video_info['statistics']['favoriteCount']\n",
    "comment_count = video_info['statistics']['commentCount']\n",
    "\n",
    "# Verileri DataFrame'e çevirme\n",
    "data = {\n",
    "    \"Video Adı\": [title],\n",
    "    \"Yayın Tarihi\": [published_at],\n",
    "    \"Görüntülenme Sayısı\": [view_count],\n",
    "    \"Beğeni Sayısı\": [like_count],\n",
    "    \"Favorilere Ekleme Sayısı\": [favorite_count],\n",
    "    \"Yorum Sayısı\": [comment_count]\n",
    "}\n",
    "\n",
    "video_df = pd.DataFrame(data)"
   ]
  },
  {
   "cell_type": "code",
   "execution_count": 126,
   "metadata": {},
   "outputs": [
    {
     "data": {
      "text/html": [
       "<div>\n",
       "<style scoped>\n",
       "    .dataframe tbody tr th:only-of-type {\n",
       "        vertical-align: middle;\n",
       "    }\n",
       "\n",
       "    .dataframe tbody tr th {\n",
       "        vertical-align: top;\n",
       "    }\n",
       "\n",
       "    .dataframe thead th {\n",
       "        text-align: right;\n",
       "    }\n",
       "</style>\n",
       "<table border=\"1\" class=\"dataframe\">\n",
       "  <thead>\n",
       "    <tr style=\"text-align: right;\">\n",
       "      <th></th>\n",
       "      <th>Video Adı</th>\n",
       "      <th>Yayın Tarihi</th>\n",
       "      <th>Görüntülenme Sayısı</th>\n",
       "      <th>Beğeni Sayısı</th>\n",
       "      <th>Favorilere Ekleme Sayısı</th>\n",
       "      <th>Yorum Sayısı</th>\n",
       "    </tr>\n",
       "  </thead>\n",
       "  <tbody>\n",
       "    <tr>\n",
       "      <th>0</th>\n",
       "      <td>Sezen Aksu - Ben De Yoluma Giderim (Official V...</td>\n",
       "      <td>2020-02-20T20:30:04Z</td>\n",
       "      <td>124570135</td>\n",
       "      <td>646911</td>\n",
       "      <td>0</td>\n",
       "      <td>49330</td>\n",
       "    </tr>\n",
       "  </tbody>\n",
       "</table>\n",
       "</div>"
      ],
      "text/plain": [
       "                                           Video Adı          Yayın Tarihi  \\\n",
       "0  Sezen Aksu - Ben De Yoluma Giderim (Official V...  2020-02-20T20:30:04Z   \n",
       "\n",
       "  Görüntülenme Sayısı Beğeni Sayısı Favorilere Ekleme Sayısı Yorum Sayısı  \n",
       "0           124570135        646911                        0        49330  "
      ]
     },
     "execution_count": 126,
     "metadata": {},
     "output_type": "execute_result"
    }
   ],
   "source": [
    "video_df.head()"
   ]
  },
  {
   "cell_type": "markdown",
   "metadata": {},
   "source": [
    "# Video hakkında yapılan yorumları inceliyoruz."
   ]
  },
  {
   "cell_type": "code",
   "execution_count": 127,
   "metadata": {},
   "outputs": [],
   "source": [
    "request = youtube.commentThreads().list(\n",
    "    part='snippet',\n",
    "    videoId= most_viewed_video_id,\n",
    "    maxResults=100  # maximum 100 yorum alabiliyoruz\n",
    ")\n",
    "response = request.execute()"
   ]
  },
  {
   "cell_type": "code",
   "execution_count": 128,
   "metadata": {},
   "outputs": [
    {
     "name": "stdout",
     "output_type": "stream",
     "text": [
      "ben de yoluma giderim artık :(\n",
      "Ezdirmem kendimii\n",
      "Bence hayatan daha çok insanlar üzüyorlar 😔😔\n",
      "Insanlarin agzindan cikan sozlerine inanmayin ! Çünkü  o sozlerin yalan oldugunu birgun kanitlarlar size , hemde en aci halde. ( sende şerefsizlik lakabini kendine takip gittin. Umarim beter olursun mehso / ederinle kal şarkinla birlikte 👋bY\n",
      "Vay be erkeklerin yorumlarına bakıyorum da kadinlardan daha aci cekmis bende bir erkek icin oturup ağlıyorum asla degmezmis bugun 15 gun sonra mesaj attim bir bahaneyle bana kimsiniz dedi 😔 vay bee sen otur agla adam mesajima kimsiniz desin 😢😢 bu adalet miiiiiii\n",
      "Boşluktayım... paramparça..\n",
      "Anladım ki sonu yok yalnızlığın<br>Ben bu dünya da acılar için varım<br>Bazı kullara keder kader olurmuş<br>Ne yazık ki ben de onlar arasındayım<br><br>Gözüm kaydı aydınlığa bir an<br>Aklım kaldı orda daha da çıkamam<br>Bazı kullarını terkeder tanrı acımadan<br>Hiçbir sevapla da kurtarılamayan<br><br>Yok bırakıp gidemezsin<br>Yok olmaz beni bunla itham edemezsin<br>Sen merhametin adı değil misin<br>Benden yücesin affet beni. <br><br>Hayır olmaz yapamazsın<br>Yok asla böyle geçemezsin<br>Beni yaratan sen değil misin<br>Senden acizim hoşgör beni<br><br>Ne olur bağışla beni<br>Hazırım canımı vermeye <br>Elimde kalan son şeydi bu<br>Yaşarken aldın zaten her şeyimi<br><br>Bana öyle bi yürek verdin ki<br>Yanlış tercihlere gebeydi<br>Dedim acaba bozuk olabilir mi? <br>Bulmaca da parçalar eksikti<br><br>Yok hayır böyle ateşlere koyamazsın<br>Senin verdiğin yürekle yaşadım<br>Bunun nesi aykırı kurallarına anlamadım<br>Sen benden yücesin al, al kurtar beni\n",
      "Bu şarkı yüzünden sigarayı bırakamıyorum\n",
      "tutamam tutamam gideni...\n",
      "&quot;Bende yoluma giderim ezdirmem kendimi ama gezdirmemde gönlümü gider acımı çekerim &quot; <br><br>O sırada kendimizi herkesin ezmesine izin vermemiz...\n"
     ]
    }
   ],
   "source": [
    "request = youtube.commentThreads().list(\n",
    "    part='snippet',\n",
    "    videoId= most_viewed_video_id,\n",
    "    maxResults=10  # maximum 100 yorum alabiliyoruz\n",
    ")\n",
    "response = request.execute()\n",
    "\n",
    "comment = [item['snippet']['topLevelComment']['snippet']['textDisplay'] for item in response['items']]\n",
    "for item in comment:\n",
    "    print(item)"
   ]
  },
  {
   "cell_type": "code",
   "execution_count": 129,
   "metadata": {},
   "outputs": [
    {
     "data": {
      "text/html": [
       "<div>\n",
       "<style scoped>\n",
       "    .dataframe tbody tr th:only-of-type {\n",
       "        vertical-align: middle;\n",
       "    }\n",
       "\n",
       "    .dataframe tbody tr th {\n",
       "        vertical-align: top;\n",
       "    }\n",
       "\n",
       "    .dataframe thead th {\n",
       "        text-align: right;\n",
       "    }\n",
       "</style>\n",
       "<table border=\"1\" class=\"dataframe\">\n",
       "  <thead>\n",
       "    <tr style=\"text-align: right;\">\n",
       "      <th></th>\n",
       "      <th>text</th>\n",
       "      <th>like_count</th>\n",
       "    </tr>\n",
       "  </thead>\n",
       "  <tbody>\n",
       "    <tr>\n",
       "      <th>9</th>\n",
       "      <td>&amp;quot;Bende yoluma giderim ezdirmem kendimi am...</td>\n",
       "      <td>14</td>\n",
       "    </tr>\n",
       "    <tr>\n",
       "      <th>7</th>\n",
       "      <td>Bu şarkı yüzünden sigarayı bırakamıyorum</td>\n",
       "      <td>8</td>\n",
       "    </tr>\n",
       "    <tr>\n",
       "      <th>8</th>\n",
       "      <td>tutamam tutamam gideni...</td>\n",
       "      <td>4</td>\n",
       "    </tr>\n",
       "    <tr>\n",
       "      <th>4</th>\n",
       "      <td>Vay be erkeklerin yorumlarına bakıyorum da kad...</td>\n",
       "      <td>3</td>\n",
       "    </tr>\n",
       "    <tr>\n",
       "      <th>5</th>\n",
       "      <td>Boşluktayım... paramparça..</td>\n",
       "      <td>3</td>\n",
       "    </tr>\n",
       "    <tr>\n",
       "      <th>2</th>\n",
       "      <td>Bence hayatan daha çok insanlar üzüyorlar 😔😔</td>\n",
       "      <td>2</td>\n",
       "    </tr>\n",
       "    <tr>\n",
       "      <th>6</th>\n",
       "      <td>Anladım ki sonu yok yalnızlığın&lt;br&gt;Ben bu düny...</td>\n",
       "      <td>2</td>\n",
       "    </tr>\n",
       "    <tr>\n",
       "      <th>1</th>\n",
       "      <td>Ezdirmem kendimii</td>\n",
       "      <td>1</td>\n",
       "    </tr>\n",
       "    <tr>\n",
       "      <th>3</th>\n",
       "      <td>Insanlarin agzindan cikan sozlerine inanmayin ...</td>\n",
       "      <td>1</td>\n",
       "    </tr>\n",
       "    <tr>\n",
       "      <th>0</th>\n",
       "      <td>ben de yoluma giderim artık :(</td>\n",
       "      <td>0</td>\n",
       "    </tr>\n",
       "  </tbody>\n",
       "</table>\n",
       "</div>"
      ],
      "text/plain": [
       "                                                text  like_count\n",
       "9  &quot;Bende yoluma giderim ezdirmem kendimi am...          14\n",
       "7           Bu şarkı yüzünden sigarayı bırakamıyorum           8\n",
       "8                          tutamam tutamam gideni...           4\n",
       "4  Vay be erkeklerin yorumlarına bakıyorum da kad...           3\n",
       "5                        Boşluktayım... paramparça..           3\n",
       "2       Bence hayatan daha çok insanlar üzüyorlar 😔😔           2\n",
       "6  Anladım ki sonu yok yalnızlığın<br>Ben bu düny...           2\n",
       "1                                  Ezdirmem kendimii           1\n",
       "3  Insanlarin agzindan cikan sozlerine inanmayin ...           1\n",
       "0                     ben de yoluma giderim artık :(           0"
      ]
     },
     "execution_count": 129,
     "metadata": {},
     "output_type": "execute_result"
    }
   ],
   "source": [
    "comments_data = []\n",
    "\n",
    "for item in response['items']:\n",
    "    comment_text = item['snippet']['topLevelComment']['snippet']['textDisplay']\n",
    "    like_count = item['snippet']['topLevelComment']['snippet']['likeCount']\n",
    "    comments_data.append({'text': comment_text, 'like_count': like_count})\n",
    "\n",
    "# DataFrame oluştur\n",
    "df_comments = pd.DataFrame(comments_data)\n",
    "\n",
    "# Beğeni sayısına göre büyükten küçüğe sırala\n",
    "df_comments_sorted = df_comments.sort_values(by='like_count', ascending=False)\n",
    "# İlk 10 yorumu seç\n",
    "top_10_comments = df_comments_sorted.head(10)\n",
    "# Sıralanmış DataFrame'i ekrana yazdır\n",
    "top_10_comments"
   ]
  },
  {
   "cell_type": "code",
   "execution_count": null,
   "metadata": {},
   "outputs": [],
   "source": []
  }
 ],
 "metadata": {
  "kernelspec": {
   "display_name": "base",
   "language": "python",
   "name": "python3"
  },
  "language_info": {
   "codemirror_mode": {
    "name": "ipython",
    "version": 3
   },
   "file_extension": ".py",
   "mimetype": "text/x-python",
   "name": "python",
   "nbconvert_exporter": "python",
   "pygments_lexer": "ipython3",
   "version": "3.9.7"
  }
 },
 "nbformat": 4,
 "nbformat_minor": 2
}
